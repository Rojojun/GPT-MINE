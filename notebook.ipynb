{
 "cells": [
  {
   "cell_type": "code",
   "execution_count": 11,
   "metadata": {},
   "outputs": [
    {
     "name": "stdout",
     "output_type": "stream",
     "text": [
      "AI: I know this:\n",
      "Capital: Pyongyang\n",
      "Language: Korean\n",
      "Food: Kimchi and Bibimbap\n",
      "Currency: North Korean won"
     ]
    },
    {
     "data": {
      "text/plain": [
       "AIMessageChunk(content='AI: I know this:\\nCapital: Pyongyang\\nLanguage: Korean\\nFood: Kimchi and Bibimbap\\nCurrency: North Korean won')"
      ]
     },
     "execution_count": 11,
     "metadata": {},
     "output_type": "execute_result"
    }
   ],
   "source": [
    "from langchain.chat_models import ChatOpenAI\n",
    "from langchain.prompts import PromptTemplate\n",
    "from langchain.prompts.few_shot import FewShotPromptTemplate\n",
    "from langchain.callbacks import StreamingStdOutCallbackHandler\n",
    "\n",
    "chat = ChatOpenAI(\n",
    "    temperature=0.1,\n",
    "    streaming=True,\n",
    "    callbacks=[\n",
    "        StreamingStdOutCallbackHandler(),\n",
    "    ]\n",
    ")\n",
    "\n",
    "# t = PromptTemplate(\n",
    "#     template=\"What is the capital of {country}\",\n",
    "#     input_variables=[\"country\"]\n",
    "# )\n",
    "\n",
    "t = PromptTemplate.from_template(\"What is the capital of {country}\")\n",
    "\n",
    "t.format(country = \"Korea\")\n",
    "\n",
    "examples = [\n",
    "{\n",
    "\"question\": \"What do you know about France? and translate it into Korean withour English result\",\n",
    "\"answer\": \"\"\"\n",
    "Here is what I know:\n",
    "Capital: Paris\n",
    "Language: French\n",
    "Food: Wine and Cheese\n",
    "Currency: Euro\n",
    "\"\"\",\n",
    "},\n",
    "{\n",
    "\"question\": \"What do you know about Italy? and translate it into Korean withour English result\",\n",
    "\"answer\": \"\"\"\n",
    "I know this:\n",
    "Capital: Rome\n",
    "Language: Italian\n",
    "Food: Pizza and Pasta\n",
    "Currency: Euro\n",
    "\"\"\",\n",
    "},\n",
    "{\n",
    "\"question\": \"What do you know about Greece? and translate it into Korean withour English result\",\n",
    "\"answer\": \"\"\"\n",
    "I know this:\n",
    "Capital: Athens\n",
    "Language: Greek\n",
    "Food: Souvlaki and Feta Cheese\n",
    "Currency: Euro\n",
    "\"\"\",\n",
    "},\n",
    "]\n",
    "\n",
    "# examples_template = \"\"\"\n",
    "#     Humane : {question}\n",
    "#     AI: {answer}\n",
    "# \"\"\"\n",
    "\n",
    "examples_prompt = PromptTemplate.from_template(\"Humane : {question}, AI: {answer}\")\n",
    "\n",
    "prompt = FewShotPromptTemplate(\n",
    "    example_prompt=examples_prompt,\n",
    "    examples=examples,\n",
    "    suffix=\"Human: What do you know about {country}? and translate it into Korean withour English result\",\n",
    "    input_variables=[\"country\"]\n",
    ")\n",
    "\n",
    "prompt.format(country=\"Korea\")\n",
    "\n",
    "\n",
    "chain = prompt | chat\n",
    "chain.invoke(\n",
    "    {\n",
    "        \"country\" : \"China\"\n",
    "    }\n",
    ")\n",
    "\n",
    "# chat.predict(\"What do you know about Korea? and translate it into Korean withour English result\")"
   ]
  }
 ],
 "metadata": {
  "kernelspec": {
   "display_name": "env",
   "language": "python",
   "name": "python3"
  },
  "language_info": {
   "codemirror_mode": {
    "name": "ipython",
    "version": 3
   },
   "file_extension": ".py",
   "mimetype": "text/x-python",
   "name": "python",
   "nbconvert_exporter": "python",
   "pygments_lexer": "ipython3",
   "version": "3.11.5"
  }
 },
 "nbformat": 4,
 "nbformat_minor": 2
}
