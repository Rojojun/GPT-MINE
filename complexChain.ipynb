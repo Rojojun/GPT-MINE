{
 "cells": [
  {
   "cell_type": "code",
   "execution_count": 9,
   "metadata": {},
   "outputs": [
    {
     "ename": "ValidationError",
     "evalue": "2 validation errors for ChatOpenAI\ncallbacks -> 0\n  instance of BaseCallbackHandler expected (type=type_error.arbitrary_type; expected_arbitrary_type=BaseCallbackHandler)\ncallbacks\n  instance of BaseCallbackManager expected (type=type_error.arbitrary_type; expected_arbitrary_type=BaseCallbackManager)",
     "output_type": "error",
     "traceback": [
      "\u001b[0;31m---------------------------------------------------------------------------\u001b[0m",
      "\u001b[0;31mValidationError\u001b[0m                           Traceback (most recent call last)",
      "\u001b[1;32m/Users/hojunna/Desktop/Dev/HOJUN-GPT-STUDY/complexChain.ipynb Cell 1\u001b[0m line \u001b[0;36m5\n\u001b[1;32m      <a href='vscode-notebook-cell:/Users/hojunna/Desktop/Dev/HOJUN-GPT-STUDY/complexChain.ipynb#W0sZmlsZQ%3D%3D?line=1'>2</a>\u001b[0m \u001b[39mfrom\u001b[39;00m \u001b[39mlangchain\u001b[39;00m\u001b[39m.\u001b[39;00m\u001b[39mprompts\u001b[39;00m \u001b[39mimport\u001b[39;00m ChatPromptTemplate\n\u001b[1;32m      <a href='vscode-notebook-cell:/Users/hojunna/Desktop/Dev/HOJUN-GPT-STUDY/complexChain.ipynb#W0sZmlsZQ%3D%3D?line=2'>3</a>\u001b[0m \u001b[39mfrom\u001b[39;00m \u001b[39mlangchain\u001b[39;00m\u001b[39m.\u001b[39;00m\u001b[39mcallbacks\u001b[39;00m \u001b[39mimport\u001b[39;00m StreamingStdOutCallbackHandler\n\u001b[0;32m----> <a href='vscode-notebook-cell:/Users/hojunna/Desktop/Dev/HOJUN-GPT-STUDY/complexChain.ipynb#W0sZmlsZQ%3D%3D?line=4'>5</a>\u001b[0m chat \u001b[39m=\u001b[39m ChatOpenAI(\n\u001b[1;32m      <a href='vscode-notebook-cell:/Users/hojunna/Desktop/Dev/HOJUN-GPT-STUDY/complexChain.ipynb#W0sZmlsZQ%3D%3D?line=5'>6</a>\u001b[0m     temperature \u001b[39m=\u001b[39;49m \u001b[39m0.1\u001b[39;49m,\n\u001b[1;32m      <a href='vscode-notebook-cell:/Users/hojunna/Desktop/Dev/HOJUN-GPT-STUDY/complexChain.ipynb#W0sZmlsZQ%3D%3D?line=6'>7</a>\u001b[0m     streaming\u001b[39m=\u001b[39;49m\u001b[39mTrue\u001b[39;49;00m,\n\u001b[1;32m      <a href='vscode-notebook-cell:/Users/hojunna/Desktop/Dev/HOJUN-GPT-STUDY/complexChain.ipynb#W0sZmlsZQ%3D%3D?line=7'>8</a>\u001b[0m     callbacks\u001b[39m=\u001b[39;49m[StreamingStdOutCallbackHandler]\n\u001b[1;32m      <a href='vscode-notebook-cell:/Users/hojunna/Desktop/Dev/HOJUN-GPT-STUDY/complexChain.ipynb#W0sZmlsZQ%3D%3D?line=8'>9</a>\u001b[0m )\n\u001b[1;32m     <a href='vscode-notebook-cell:/Users/hojunna/Desktop/Dev/HOJUN-GPT-STUDY/complexChain.ipynb#W0sZmlsZQ%3D%3D?line=10'>11</a>\u001b[0m chef_prompt \u001b[39m=\u001b[39m ChatPromptTemplate\u001b[39m.\u001b[39mfrom_messages([\n\u001b[1;32m     <a href='vscode-notebook-cell:/Users/hojunna/Desktop/Dev/HOJUN-GPT-STUDY/complexChain.ipynb#W0sZmlsZQ%3D%3D?line=11'>12</a>\u001b[0m     (\u001b[39m\"\u001b[39m\u001b[39msystem\u001b[39m\u001b[39m\"\u001b[39m, \u001b[39m\"\u001b[39m\u001b[39m당신은 이 세상의 모든 요리를 마스터한 국제적인 요리사입니다. 당신은 초보자들도 쉽게 만들수 있는 쉬운 요리방법을 누구나 찾기 쉬운 요리 재료를 통해서 알려줍니다.\u001b[39m\u001b[39m\"\u001b[39m),\n\u001b[1;32m     <a href='vscode-notebook-cell:/Users/hojunna/Desktop/Dev/HOJUN-GPT-STUDY/complexChain.ipynb#W0sZmlsZQ%3D%3D?line=12'>13</a>\u001b[0m     (\u001b[39m\"\u001b[39m\u001b[39mhuman\u001b[39m\u001b[39m\"\u001b[39m, \u001b[39m\"\u001b[39m\u001b[39m나는 \u001b[39m\u001b[39m{cuisine}\u001b[39;00m\u001b[39m 요리법을 알고 싶어\u001b[39m\u001b[39m\"\u001b[39m)\n\u001b[1;32m     <a href='vscode-notebook-cell:/Users/hojunna/Desktop/Dev/HOJUN-GPT-STUDY/complexChain.ipynb#W0sZmlsZQ%3D%3D?line=13'>14</a>\u001b[0m ])\n\u001b[1;32m     <a href='vscode-notebook-cell:/Users/hojunna/Desktop/Dev/HOJUN-GPT-STUDY/complexChain.ipynb#W0sZmlsZQ%3D%3D?line=15'>16</a>\u001b[0m chef_chain \u001b[39m=\u001b[39m chef_prompt \u001b[39m|\u001b[39m chat\n",
      "File \u001b[0;32m~/Desktop/Dev/HOJUN-GPT-STUDY/env/lib/python3.11/site-packages/langchain/load/serializable.py:97\u001b[0m, in \u001b[0;36mSerializable.__init__\u001b[0;34m(self, **kwargs)\u001b[0m\n\u001b[1;32m     96\u001b[0m \u001b[39mdef\u001b[39;00m \u001b[39m__init__\u001b[39m(\u001b[39mself\u001b[39m, \u001b[39m*\u001b[39m\u001b[39m*\u001b[39mkwargs: Any) \u001b[39m-\u001b[39m\u001b[39m>\u001b[39m \u001b[39mNone\u001b[39;00m:\n\u001b[0;32m---> 97\u001b[0m     \u001b[39msuper\u001b[39;49m()\u001b[39m.\u001b[39;49m\u001b[39m__init__\u001b[39;49m(\u001b[39m*\u001b[39;49m\u001b[39m*\u001b[39;49mkwargs)\n\u001b[1;32m     98\u001b[0m     \u001b[39mself\u001b[39m\u001b[39m.\u001b[39m_lc_kwargs \u001b[39m=\u001b[39m kwargs\n",
      "File \u001b[0;32m~/Desktop/Dev/HOJUN-GPT-STUDY/env/lib/python3.11/site-packages/pydantic/main.py:341\u001b[0m, in \u001b[0;36mpydantic.main.BaseModel.__init__\u001b[0;34m()\u001b[0m\n",
      "\u001b[0;31mValidationError\u001b[0m: 2 validation errors for ChatOpenAI\ncallbacks -> 0\n  instance of BaseCallbackHandler expected (type=type_error.arbitrary_type; expected_arbitrary_type=BaseCallbackHandler)\ncallbacks\n  instance of BaseCallbackManager expected (type=type_error.arbitrary_type; expected_arbitrary_type=BaseCallbackManager)"
     ]
    }
   ],
   "source": [
    "from langchain.chat_models import ChatOpenAI\n",
    "from langchain.prompts import ChatPromptTemplate\n",
    "from langchain.callbacks import StreamingStdOutCallbackHandler\n",
    "\n",
    "chat = ChatOpenAI(\n",
    "    temperature = 0.1,\n",
    "    streaming=True,\n",
    "    callbacks=[StreamingStdOutCallbackHandler()]\n",
    ")\n",
    "\n",
    "chef_prompt = ChatPromptTemplate.from_messages([\n",
    "    (\"system\", \"당신은 이 세상의 모든 요리를 마스터한 국제적인 요리사입니다. 당신은 초보자들도 쉽게 만들수 있는 쉬운 요리방법을 누구나 찾기 쉬운 요리 재료를 통해서 알려줍니다.\"),\n",
    "    (\"human\", \"나는 {cuisine} 요리법을 알고 싶어\")\n",
    "])\n",
    "\n",
    "chef_chain = chef_prompt | chat\n",
    "\n",
    "\n",
    "veg_chef_prompt = ChatPromptTemplate.from_messages([\n",
    "    (\"system\", \"당신은 채식주의자를 위한 요리사입니다. 요리의 재료를 터무니 없게 바꾸지 않되 재료가 없다면 대체재료를 추천할 수 있습니다. 만약에 어떠한 대체 재료를 찾을 수 없다면 불가능하다고 말씀해주세요\"),\n",
    "    (\"human\", \"{recipe}\")\n",
    "])\n",
    "\n",
    "veg_chain = veg_chef_prompt | chat\n",
    "\n",
    "final_chain = {\"recipe\" : chef_chain} | veg_chain\n",
    "\n",
    "final_chain.invoke(\n",
    "    {\n",
    "        \"cuisine\" : \"불고기\"\n",
    "    }\n",
    ")"
   ]
  }
 ],
 "metadata": {
  "kernelspec": {
   "display_name": "env",
   "language": "python",
   "name": "python3"
  },
  "language_info": {
   "codemirror_mode": {
    "name": "ipython",
    "version": 3
   },
   "file_extension": ".py",
   "mimetype": "text/x-python",
   "name": "python",
   "nbconvert_exporter": "python",
   "pygments_lexer": "ipython3",
   "version": "3.11.5"
  }
 },
 "nbformat": 4,
 "nbformat_minor": 2
}
